{
 "cells": [
  {
   "cell_type": "markdown",
   "metadata": {},
   "source": [
    "### **Calculando a velocidade espacial em coordenadas galactocentricas usando APOGEE e GAIADR2**\n",
    "Fredi Quispe H."
   ]
  },
  {
   "cell_type": "markdown",
   "metadata": {},
   "source": [
    "Para calcular a velocidade é necessario ter os seguintes parâmetros:\n",
    "\n",
    "    1 Posição (ascensão recta e declinação)\n",
    "    2 Movimentos proprios (em ascensão recta e declinação)\n",
    "    3 Distância\n",
    "    4 Velocidade Radial"
   ]
  },
  {
   "cell_type": "markdown",
   "metadata": {},
   "source": [
    "#### **APOGEE DATA**"
   ]
  },
  {
   "cell_type": "code",
   "execution_count": 2,
   "metadata": {},
   "outputs": [
    {
     "data": {
      "text/html": [
       "\n",
       "        <iframe\n",
       "            width=\"1000\"\n",
       "            height=\"100\"\n",
       "            src=\"https://www.sdss.org/dr14/irspec/spectro_data/\"\n",
       "            frameborder=\"0\"\n",
       "            allowfullscreen\n",
       "        ></iframe>\n",
       "        "
      ],
      "text/plain": [
       "<IPython.lib.display.IFrame at 0x7f1448f56470>"
      ]
     },
     "execution_count": 2,
     "metadata": {},
     "output_type": "execute_result"
    }
   ],
   "source": [
    "from IPython.display import IFrame\n",
    "IFrame(src='https://www.sdss.org/dr14/irspec/spectro_data/', width=1000, height=100)"
   ]
  },
  {
   "cell_type": "markdown",
   "metadata": {},
   "source": [
    "#### **APOGEE DATA (Informação da tabela de dados)**"
   ]
  },
  {
   "cell_type": "code",
   "execution_count": 3,
   "metadata": {},
   "outputs": [
    {
     "data": {
      "text/html": [
       "\n",
       "        <iframe\n",
       "            width=\"1000\"\n",
       "            height=\"100\"\n",
       "            src=\"https://data.sdss.org/datamodel/files/APOGEE_REDUX/APRED_VERS/APSTAR_VERS/ASPCAP_VERS/RESULTS_VERS/allStar.html#example\"\n",
       "            frameborder=\"0\"\n",
       "            allowfullscreen\n",
       "        ></iframe>\n",
       "        "
      ],
      "text/plain": [
       "<IPython.lib.display.IFrame at 0x7f1448f56588>"
      ]
     },
     "execution_count": 3,
     "metadata": {},
     "output_type": "execute_result"
    }
   ],
   "source": [
    "from IPython.display import IFrame\n",
    "IFrame(src='https://data.sdss.org/datamodel/files/APOGEE_REDUX/APRED_VERS/APSTAR_VERS/ASPCAP_VERS/RESULTS_VERS/allStar.html#example', width=1000, height=100)"
   ]
  },
  {
   "cell_type": "markdown",
   "metadata": {},
   "source": [
    "#### **Lendo o arquivo fits que contem os dados do APOGEE**"
   ]
  },
  {
   "cell_type": "code",
   "execution_count": 1,
   "metadata": {},
   "outputs": [],
   "source": [
    "# pacotes necessários do python\n",
    "import numpy as np \n",
    "import pandas as pd \n",
    "\n",
    "import matplotlib.pyplot as plt\n",
    "\n",
    "import astropy.coordinates as coord\n",
    "import astropy.units as u\n",
    "# pacote para ler arquivos fits\n",
    "import fitsio"
   ]
  },
  {
   "cell_type": "code",
   "execution_count": 8,
   "metadata": {},
   "outputs": [],
   "source": [
    "# Nome do arquivo fits contendo os dados do APOGEE\n",
    "apogee_data_filename = 'allStar-l31c.2.fits' \n",
    "# Selecionando só algumas colunas do arquivo \n",
    "column_name_apogee = ['APOGEE_ID','RA', 'DEC', 'VHELIO_AVG', 'VSCATTER', 'VERR', 'PMRA', 'PMDEC', 'SNR'] \n",
    "# lendo os dados do arquivo fits (RAD)\n",
    "RAD = fitsio.read(apogee_data_filename, columns=column_name_apogee) \n",
    "RAD = RAD.byteswap().newbyteorder()\n",
    "# Dados do APOGEE em dataframe do pandas\n",
    "APOGEE_TABLE_DF = pd.DataFrame.from_records(RAD) "
   ]
  },
  {
   "cell_type": "code",
   "execution_count": 9,
   "metadata": {},
   "outputs": [
    {
     "data": {
      "text/html": [
       "<div>\n",
       "<style scoped>\n",
       "    .dataframe tbody tr th:only-of-type {\n",
       "        vertical-align: middle;\n",
       "    }\n",
       "\n",
       "    .dataframe tbody tr th {\n",
       "        vertical-align: top;\n",
       "    }\n",
       "\n",
       "    .dataframe thead th {\n",
       "        text-align: right;\n",
       "    }\n",
       "</style>\n",
       "<table border=\"1\" class=\"dataframe\">\n",
       "  <thead>\n",
       "    <tr style=\"text-align: right;\">\n",
       "      <th></th>\n",
       "      <th>APOGEE_ID</th>\n",
       "      <th>RA</th>\n",
       "      <th>DEC</th>\n",
       "      <th>SNR</th>\n",
       "      <th>VHELIO_AVG</th>\n",
       "      <th>VSCATTER</th>\n",
       "      <th>VERR</th>\n",
       "      <th>PMRA</th>\n",
       "      <th>PMDEC</th>\n",
       "    </tr>\n",
       "  </thead>\n",
       "  <tbody>\n",
       "    <tr>\n",
       "      <th>0</th>\n",
       "      <td>b'VESTA             '</td>\n",
       "      <td>0.000000</td>\n",
       "      <td>0.000000</td>\n",
       "      <td>406.069000</td>\n",
       "      <td>15.827300</td>\n",
       "      <td>10.637900</td>\n",
       "      <td>0.008402</td>\n",
       "      <td>-9999.990234</td>\n",
       "      <td>-9999.990234</td>\n",
       "    </tr>\n",
       "    <tr>\n",
       "      <th>1</th>\n",
       "      <td>b'2M00000002+7417074'</td>\n",
       "      <td>0.000103</td>\n",
       "      <td>74.285408</td>\n",
       "      <td>859.487976</td>\n",
       "      <td>-52.168999</td>\n",
       "      <td>0.158676</td>\n",
       "      <td>0.001012</td>\n",
       "      <td>-2.800000</td>\n",
       "      <td>2.400000</td>\n",
       "    </tr>\n",
       "    <tr>\n",
       "      <th>2</th>\n",
       "      <td>b'2M00000019-1924498'</td>\n",
       "      <td>0.000832</td>\n",
       "      <td>-19.413851</td>\n",
       "      <td>142.705994</td>\n",
       "      <td>18.649700</td>\n",
       "      <td>0.000000</td>\n",
       "      <td>0.029673</td>\n",
       "      <td>19.600000</td>\n",
       "      <td>-6.500000</td>\n",
       "    </tr>\n",
       "    <tr>\n",
       "      <th>3</th>\n",
       "      <td>b'2M00000032+5737103'</td>\n",
       "      <td>0.001335</td>\n",
       "      <td>57.619530</td>\n",
       "      <td>215.313004</td>\n",
       "      <td>-20.074600</td>\n",
       "      <td>0.188706</td>\n",
       "      <td>0.037097</td>\n",
       "      <td>0.000000</td>\n",
       "      <td>0.000000</td>\n",
       "    </tr>\n",
       "    <tr>\n",
       "      <th>4</th>\n",
       "      <td>b'2M00000032+5737103'</td>\n",
       "      <td>0.001335</td>\n",
       "      <td>57.619530</td>\n",
       "      <td>120.399002</td>\n",
       "      <td>-20.759899</td>\n",
       "      <td>0.067132</td>\n",
       "      <td>0.037843</td>\n",
       "      <td>0.000000</td>\n",
       "      <td>0.000000</td>\n",
       "    </tr>\n",
       "  </tbody>\n",
       "</table>\n",
       "</div>"
      ],
      "text/plain": [
       "               APOGEE_ID        RA        DEC         SNR  VHELIO_AVG  \\\n",
       "0  b'VESTA             '  0.000000   0.000000  406.069000   15.827300   \n",
       "1  b'2M00000002+7417074'  0.000103  74.285408  859.487976  -52.168999   \n",
       "2  b'2M00000019-1924498'  0.000832 -19.413851  142.705994   18.649700   \n",
       "3  b'2M00000032+5737103'  0.001335  57.619530  215.313004  -20.074600   \n",
       "4  b'2M00000032+5737103'  0.001335  57.619530  120.399002  -20.759899   \n",
       "\n",
       "    VSCATTER      VERR         PMRA        PMDEC  \n",
       "0  10.637900  0.008402 -9999.990234 -9999.990234  \n",
       "1   0.158676  0.001012    -2.800000     2.400000  \n",
       "2   0.000000  0.029673    19.600000    -6.500000  \n",
       "3   0.188706  0.037097     0.000000     0.000000  \n",
       "4   0.067132  0.037843     0.000000     0.000000  "
      ]
     },
     "execution_count": 9,
     "metadata": {},
     "output_type": "execute_result"
    }
   ],
   "source": [
    "APOGEE_TABLE_DF.head(5)"
   ]
  },
  {
   "cell_type": "markdown",
   "metadata": {},
   "source": [
    "#### **Eliminando as filas quando o APOGEE_ID se repete, mas mantendo a fila com o maior razão sinal ruido (SNR)**"
   ]
  },
  {
   "cell_type": "code",
   "execution_count": 5,
   "metadata": {},
   "outputs": [
    {
     "data": {
      "text/plain": [
       "(258475, 7)"
      ]
     },
     "execution_count": 5,
     "metadata": {},
     "output_type": "execute_result"
    }
   ],
   "source": [
    "# apogee data sorting by higuest SNR for duplicate APOGEE_ID\n",
    "ADSBSNR = APOGEE_TABLE_DF.sort_values('SNR', ascending=False).drop_duplicates('APOGEE_ID').sort_index() \n",
    "ADSBSNR.shape\n",
    "# 18896 estrelas com o mesmo ID"
   ]
  },
  {
   "cell_type": "code",
   "execution_count": 135,
   "metadata": {},
   "outputs": [
    {
     "data": {
      "text/plain": [
       "APOGEE_ID     21\n",
       "RA            21\n",
       "DEC           21\n",
       "SNR           21\n",
       "VHELIO_AVG    21\n",
       "PMRA          21\n",
       "PMDEC         21\n",
       "dtype: int64"
      ]
     },
     "execution_count": 135,
     "metadata": {},
     "output_type": "execute_result"
    }
   ],
   "source": [
    "# 21 estrelas com velocidade radial desconhecida\n",
    "ADSBSNR.loc[(ADSBSNR['VHELIO_AVG'] == 9.9999900e+05)].count()"
   ]
  },
  {
   "cell_type": "code",
   "execution_count": 136,
   "metadata": {},
   "outputs": [
    {
     "data": {
      "text/html": [
       "<div>\n",
       "<style scoped>\n",
       "    .dataframe tbody tr th:only-of-type {\n",
       "        vertical-align: middle;\n",
       "    }\n",
       "\n",
       "    .dataframe tbody tr th {\n",
       "        vertical-align: top;\n",
       "    }\n",
       "\n",
       "    .dataframe thead th {\n",
       "        text-align: right;\n",
       "    }\n",
       "</style>\n",
       "<table border=\"1\" class=\"dataframe\">\n",
       "  <thead>\n",
       "    <tr style=\"text-align: right;\">\n",
       "      <th></th>\n",
       "      <th>APOGEE_ID</th>\n",
       "      <th>RA</th>\n",
       "      <th>DEC</th>\n",
       "      <th>SNR</th>\n",
       "      <th>VHELIO_AVG</th>\n",
       "      <th>PMRA</th>\n",
       "      <th>PMDEC</th>\n",
       "    </tr>\n",
       "  </thead>\n",
       "  <tbody>\n",
       "    <tr>\n",
       "      <th>8636</th>\n",
       "      <td>b'AP00421114+4107339'</td>\n",
       "      <td>10.546437</td>\n",
       "      <td>41.126087</td>\n",
       "      <td>6.530150e-10</td>\n",
       "      <td>999999.0</td>\n",
       "      <td>-9999.990234</td>\n",
       "      <td>-9999.990234</td>\n",
       "    </tr>\n",
       "    <tr>\n",
       "      <th>8780</th>\n",
       "      <td>b'AP00424392+4050270'</td>\n",
       "      <td>10.683000</td>\n",
       "      <td>40.840842</td>\n",
       "      <td>1.824410e-01</td>\n",
       "      <td>999999.0</td>\n",
       "      <td>-9999.990234</td>\n",
       "      <td>-9999.990234</td>\n",
       "    </tr>\n",
       "    <tr>\n",
       "      <th>8826</th>\n",
       "      <td>b'AP00425893+4109088'</td>\n",
       "      <td>10.745537</td>\n",
       "      <td>41.152454</td>\n",
       "      <td>5.619170e-02</td>\n",
       "      <td>999999.0</td>\n",
       "      <td>-9999.990234</td>\n",
       "      <td>-9999.990234</td>\n",
       "    </tr>\n",
       "    <tr>\n",
       "      <th>8957</th>\n",
       "      <td>b'AP00432876+4122370'</td>\n",
       "      <td>10.869833</td>\n",
       "      <td>41.376944</td>\n",
       "      <td>1.306690e+00</td>\n",
       "      <td>999999.0</td>\n",
       "      <td>-9999.990234</td>\n",
       "      <td>-9999.990234</td>\n",
       "    </tr>\n",
       "    <tr>\n",
       "      <th>9036</th>\n",
       "      <td>b'AP00434755+4127080'</td>\n",
       "      <td>10.948113</td>\n",
       "      <td>41.452232</td>\n",
       "      <td>3.536960e-11</td>\n",
       "      <td>999999.0</td>\n",
       "      <td>-9999.990234</td>\n",
       "      <td>-9999.990234</td>\n",
       "    </tr>\n",
       "    <tr>\n",
       "      <th>9093</th>\n",
       "      <td>b'AP00440263+4125268'</td>\n",
       "      <td>11.010958</td>\n",
       "      <td>41.424110</td>\n",
       "      <td>5.704840e-11</td>\n",
       "      <td>999999.0</td>\n",
       "      <td>-9999.990234</td>\n",
       "      <td>-9999.990234</td>\n",
       "    </tr>\n",
       "    <tr>\n",
       "      <th>9221</th>\n",
       "      <td>b'AP00444286+4120086'</td>\n",
       "      <td>11.178571</td>\n",
       "      <td>41.335731</td>\n",
       "      <td>3.467950e-10</td>\n",
       "      <td>999999.0</td>\n",
       "      <td>-9999.990234</td>\n",
       "      <td>-9999.990234</td>\n",
       "    </tr>\n",
       "    <tr>\n",
       "      <th>9283</th>\n",
       "      <td>b'AP00450719+4140311'</td>\n",
       "      <td>11.279954</td>\n",
       "      <td>41.675308</td>\n",
       "      <td>2.458540e-01</td>\n",
       "      <td>999999.0</td>\n",
       "      <td>-9999.990234</td>\n",
       "      <td>-9999.990234</td>\n",
       "    </tr>\n",
       "    <tr>\n",
       "      <th>73336</th>\n",
       "      <td>b'2M06293017-3122302'</td>\n",
       "      <td>97.375720</td>\n",
       "      <td>-31.375076</td>\n",
       "      <td>-1.467850e-10</td>\n",
       "      <td>999999.0</td>\n",
       "      <td>0.000000</td>\n",
       "      <td>0.000000</td>\n",
       "    </tr>\n",
       "    <tr>\n",
       "      <th>107004</th>\n",
       "      <td>b'2M09123957+2256456'</td>\n",
       "      <td>138.164913</td>\n",
       "      <td>22.946005</td>\n",
       "      <td>-9.633000e-11</td>\n",
       "      <td>999999.0</td>\n",
       "      <td>0.000000</td>\n",
       "      <td>0.000000</td>\n",
       "    </tr>\n",
       "    <tr>\n",
       "      <th>115202</th>\n",
       "      <td>b'2M10371734+2557243'</td>\n",
       "      <td>159.322290</td>\n",
       "      <td>25.956766</td>\n",
       "      <td>4.207380e-11</td>\n",
       "      <td>999999.0</td>\n",
       "      <td>0.000000</td>\n",
       "      <td>0.000000</td>\n",
       "    </tr>\n",
       "    <tr>\n",
       "      <th>126939</th>\n",
       "      <td>b'AP11530074+2028560'</td>\n",
       "      <td>178.253080</td>\n",
       "      <td>20.482230</td>\n",
       "      <td>-1.705900e-10</td>\n",
       "      <td>999999.0</td>\n",
       "      <td>-9999.990234</td>\n",
       "      <td>-9999.990234</td>\n",
       "    </tr>\n",
       "    <tr>\n",
       "      <th>126988</th>\n",
       "      <td>b'AP11531044+1921576'</td>\n",
       "      <td>178.293500</td>\n",
       "      <td>19.365990</td>\n",
       "      <td>-2.838470e-11</td>\n",
       "      <td>999999.0</td>\n",
       "      <td>-9999.990234</td>\n",
       "      <td>-9999.990234</td>\n",
       "    </tr>\n",
       "    <tr>\n",
       "      <th>127538</th>\n",
       "      <td>b'AP11562051+2001323'</td>\n",
       "      <td>179.085470</td>\n",
       "      <td>20.025640</td>\n",
       "      <td>-3.444450e-10</td>\n",
       "      <td>999999.0</td>\n",
       "      <td>-9999.990234</td>\n",
       "      <td>-9999.990234</td>\n",
       "    </tr>\n",
       "    <tr>\n",
       "      <th>135245</th>\n",
       "      <td>b'2M12480285+4227411'</td>\n",
       "      <td>192.011903</td>\n",
       "      <td>42.461433</td>\n",
       "      <td>1.856830e-11</td>\n",
       "      <td>999999.0</td>\n",
       "      <td>-316.000000</td>\n",
       "      <td>-280.000000</td>\n",
       "    </tr>\n",
       "    <tr>\n",
       "      <th>140571</th>\n",
       "      <td>b'2M13152591+1615077'</td>\n",
       "      <td>198.857989</td>\n",
       "      <td>16.252144</td>\n",
       "      <td>1.271230e-03</td>\n",
       "      <td>999999.0</td>\n",
       "      <td>0.000000</td>\n",
       "      <td>0.000000</td>\n",
       "    </tr>\n",
       "    <tr>\n",
       "      <th>190940</th>\n",
       "      <td>b'AP17435932-2520080'</td>\n",
       "      <td>265.997167</td>\n",
       "      <td>-25.335556</td>\n",
       "      <td>-2.843840e-10</td>\n",
       "      <td>999999.0</td>\n",
       "      <td>-9999.990234</td>\n",
       "      <td>-9999.990234</td>\n",
       "    </tr>\n",
       "    <tr>\n",
       "      <th>191062</th>\n",
       "      <td>b'AP17442985-2540110'</td>\n",
       "      <td>266.124375</td>\n",
       "      <td>-25.669722</td>\n",
       "      <td>1.607240e+00</td>\n",
       "      <td>999999.0</td>\n",
       "      <td>-9999.990234</td>\n",
       "      <td>-9999.990234</td>\n",
       "    </tr>\n",
       "    <tr>\n",
       "      <th>231203</th>\n",
       "      <td>b'2M19225598+3800259'</td>\n",
       "      <td>290.733280</td>\n",
       "      <td>38.007214</td>\n",
       "      <td>9.644990e-12</td>\n",
       "      <td>999999.0</td>\n",
       "      <td>-161.000000</td>\n",
       "      <td>91.000000</td>\n",
       "    </tr>\n",
       "    <tr>\n",
       "      <th>244374</th>\n",
       "      <td>b'2M19490820+1849586'</td>\n",
       "      <td>297.284194</td>\n",
       "      <td>18.832952</td>\n",
       "      <td>1.766420e-10</td>\n",
       "      <td>999999.0</td>\n",
       "      <td>-358.000000</td>\n",
       "      <td>-92.000000</td>\n",
       "    </tr>\n",
       "    <tr>\n",
       "      <th>276902</th>\n",
       "      <td>b'2M23571936-1923390'</td>\n",
       "      <td>359.330676</td>\n",
       "      <td>-19.394175</td>\n",
       "      <td>-1.226440e-10</td>\n",
       "      <td>999999.0</td>\n",
       "      <td>0.000000</td>\n",
       "      <td>0.000000</td>\n",
       "    </tr>\n",
       "  </tbody>\n",
       "</table>\n",
       "</div>"
      ],
      "text/plain": [
       "                    APOGEE_ID          RA        DEC           SNR  \\\n",
       "8636    b'AP00421114+4107339'   10.546437  41.126087  6.530150e-10   \n",
       "8780    b'AP00424392+4050270'   10.683000  40.840842  1.824410e-01   \n",
       "8826    b'AP00425893+4109088'   10.745537  41.152454  5.619170e-02   \n",
       "8957    b'AP00432876+4122370'   10.869833  41.376944  1.306690e+00   \n",
       "9036    b'AP00434755+4127080'   10.948113  41.452232  3.536960e-11   \n",
       "9093    b'AP00440263+4125268'   11.010958  41.424110  5.704840e-11   \n",
       "9221    b'AP00444286+4120086'   11.178571  41.335731  3.467950e-10   \n",
       "9283    b'AP00450719+4140311'   11.279954  41.675308  2.458540e-01   \n",
       "73336   b'2M06293017-3122302'   97.375720 -31.375076 -1.467850e-10   \n",
       "107004  b'2M09123957+2256456'  138.164913  22.946005 -9.633000e-11   \n",
       "115202  b'2M10371734+2557243'  159.322290  25.956766  4.207380e-11   \n",
       "126939  b'AP11530074+2028560'  178.253080  20.482230 -1.705900e-10   \n",
       "126988  b'AP11531044+1921576'  178.293500  19.365990 -2.838470e-11   \n",
       "127538  b'AP11562051+2001323'  179.085470  20.025640 -3.444450e-10   \n",
       "135245  b'2M12480285+4227411'  192.011903  42.461433  1.856830e-11   \n",
       "140571  b'2M13152591+1615077'  198.857989  16.252144  1.271230e-03   \n",
       "190940  b'AP17435932-2520080'  265.997167 -25.335556 -2.843840e-10   \n",
       "191062  b'AP17442985-2540110'  266.124375 -25.669722  1.607240e+00   \n",
       "231203  b'2M19225598+3800259'  290.733280  38.007214  9.644990e-12   \n",
       "244374  b'2M19490820+1849586'  297.284194  18.832952  1.766420e-10   \n",
       "276902  b'2M23571936-1923390'  359.330676 -19.394175 -1.226440e-10   \n",
       "\n",
       "        VHELIO_AVG         PMRA        PMDEC  \n",
       "8636      999999.0 -9999.990234 -9999.990234  \n",
       "8780      999999.0 -9999.990234 -9999.990234  \n",
       "8826      999999.0 -9999.990234 -9999.990234  \n",
       "8957      999999.0 -9999.990234 -9999.990234  \n",
       "9036      999999.0 -9999.990234 -9999.990234  \n",
       "9093      999999.0 -9999.990234 -9999.990234  \n",
       "9221      999999.0 -9999.990234 -9999.990234  \n",
       "9283      999999.0 -9999.990234 -9999.990234  \n",
       "73336     999999.0     0.000000     0.000000  \n",
       "107004    999999.0     0.000000     0.000000  \n",
       "115202    999999.0     0.000000     0.000000  \n",
       "126939    999999.0 -9999.990234 -9999.990234  \n",
       "126988    999999.0 -9999.990234 -9999.990234  \n",
       "127538    999999.0 -9999.990234 -9999.990234  \n",
       "135245    999999.0  -316.000000  -280.000000  \n",
       "140571    999999.0     0.000000     0.000000  \n",
       "190940    999999.0 -9999.990234 -9999.990234  \n",
       "191062    999999.0 -9999.990234 -9999.990234  \n",
       "231203    999999.0  -161.000000    91.000000  \n",
       "244374    999999.0  -358.000000   -92.000000  \n",
       "276902    999999.0     0.000000     0.000000  "
      ]
     },
     "execution_count": 136,
     "metadata": {},
     "output_type": "execute_result"
    }
   ],
   "source": [
    "SWRV = ADSBSNR.loc[(ADSBSNR['VHELIO_AVG'] != 9.9999900e+05)]"
   ]
  },
  {
   "cell_type": "code",
   "execution_count": 137,
   "metadata": {},
   "outputs": [
    {
     "data": {
      "text/plain": [
       "APOGEE_ID     13\n",
       "RA            13\n",
       "DEC           13\n",
       "SNR           13\n",
       "VHELIO_AVG    13\n",
       "PMRA          13\n",
       "PMDEC         13\n",
       "dtype: int64"
      ]
     },
     "execution_count": 137,
     "metadata": {},
     "output_type": "execute_result"
    }
   ],
   "source": [
    "# 13 estrelas com velocidade radial (9.9999900e+05), movimento proprio em ascenção reta e declinação desconhecidos (-9999.990234)\n",
    "ADSBSNR.loc[(ADSBSNR['VHELIO_AVG'] == 9.9999900e+05) & (ADSBSNR['PMRA'] == -9999.990234) & (ADSBSNR['PMDEC'] == -9999.990234)].count()"
   ]
  },
  {
   "cell_type": "code",
   "execution_count": 138,
   "metadata": {},
   "outputs": [
    {
     "data": {
      "text/plain": [
       "APOGEE_ID     2068\n",
       "RA            2068\n",
       "DEC           2068\n",
       "SNR           2068\n",
       "VHELIO_AVG    2068\n",
       "PMRA          2068\n",
       "PMDEC         2068\n",
       "dtype: int64"
      ]
     },
     "execution_count": 138,
     "metadata": {},
     "output_type": "execute_result"
    }
   ],
   "source": [
    "# 2068 estrelas com movimento proprio em ascenção reta e declinação desconhecidos (-9999.990234)\n",
    "ADSBSNR.loc[(ADSBSNR['PMRA'] == -9999.990234) & (ADSBSNR['PMDEC'] == -9999.990234)].count()"
   ]
  },
  {
   "cell_type": "markdown",
   "metadata": {},
   "source": [
    "#### **Guardando o novo arquivo em formato fits**\n",
    "Com o fim de realizar o crossmatch com o catalogo GaiaDR2 será criado um novo arquivo com o nome de apogee_filter_SNR.fits"
   ]
  },
  {
   "cell_type": "code",
   "execution_count": 139,
   "metadata": {},
   "outputs": [],
   "source": [
    "result_file = fitsio.FITS('apogee_filter_SNR.fits','rw') \n",
    "result_file.write(ADSBSNR.to_records(index=False))\n",
    "result_file.close()"
   ]
  },
  {
   "cell_type": "markdown",
   "metadata": {},
   "source": [
    "#### **APOGEE e GAIADR2**\n",
    "A fim de determinar a velocidade espacial em coordenadas galactocentricas é necessário conhecer as distâncias (não fornecido pelo apogee), portanto, os dados do apogee serão complementados com os dados do GAIADR2 que fornece o paralaxe por meio do qual é possível determinar a distância. Com essa finalidade iremos a fazer um crossmatch entre os dos levantamentos. A ferramenta para o crossmatch será feito com TOPCAT (*Tool for Operations on Catalogues And Tables*). Para realizar o crossmatch é necessário definir um radio de match, neste caso iremos usar o radio de 0.5 segundos de arco."
   ]
  },
  {
   "cell_type": "markdown",
   "metadata": {},
   "source": [
    "#### **Lendo o arquivo fits apos o crossmatch**\n",
    "O crossmatch foi feito usando o catálogo contendo as distâncias calculadas a partir da paralaje como mostrado no artigo http://www.mpia.de/~calj/gdr2_distances/gdr2_distances.pdf, mas inicialmente foi realizado um crossmatch com o gaiaDR2 a fim de obter os movimentos proprios que não é dado no catalogo de distâncias localizado no vizier I/347/gaia2dis. O catalogo apos os crossmatch tem o nome APOGEExGAIADR2_dist.fits"
   ]
  },
  {
   "cell_type": "code",
   "execution_count": 140,
   "metadata": {},
   "outputs": [],
   "source": [
    "apogee_x_gaiadr2_distance_filename = 'APOGEExGAIADR2_dist.fits'\n",
    "column_name_apogee_gaiadr2_distance = ['APOGEE_ID','RA','DEC', 'PMRA', 'PMDEC','VHELIO_AVG', 'ra_epoch2000', 'dec_epoch2000', 'parallax', 'parallax_error', 'pmra_G', 'pmra_error', 'pmdec_G', 'pmdec_error', 'radial_velocity', 'radial_velocity_error', 'rest', 'b_rest_x', 'B_rest_xa']\n",
    "AGD = fitsio.read(apogee_x_gaiadr2_distance_filename, ext=1, columns = column_name_apogee_gaiadr2_distance) # Apogee Gaia Distance (AGD)\n",
    "AGD = AGD.byteswap().newbyteorder()\n",
    "APO_GAIA_DIST = pd.DataFrame.from_records(AGD)"
   ]
  },
  {
   "cell_type": "code",
   "execution_count": 177,
   "metadata": {},
   "outputs": [
    {
     "data": {
      "text/plain": [
       "nan"
      ]
     },
     "execution_count": 177,
     "metadata": {},
     "output_type": "execute_result"
    }
   ],
   "source": [
    "APO_GAIA_DIST.pmdec_G[86772]"
   ]
  },
  {
   "cell_type": "code",
   "execution_count": 192,
   "metadata": {},
   "outputs": [
    {
     "data": {
      "text/html": [
       "<div>\n",
       "<style scoped>\n",
       "    .dataframe tbody tr th:only-of-type {\n",
       "        vertical-align: middle;\n",
       "    }\n",
       "\n",
       "    .dataframe tbody tr th {\n",
       "        vertical-align: top;\n",
       "    }\n",
       "\n",
       "    .dataframe thead th {\n",
       "        text-align: right;\n",
       "    }\n",
       "</style>\n",
       "<table border=\"1\" class=\"dataframe\">\n",
       "  <thead>\n",
       "    <tr style=\"text-align: right;\">\n",
       "      <th></th>\n",
       "      <th>APOGEE_ID</th>\n",
       "      <th>RA</th>\n",
       "      <th>DEC</th>\n",
       "      <th>VHELIO_AVG</th>\n",
       "      <th>PMRA</th>\n",
       "      <th>PMDEC</th>\n",
       "      <th>ra_epoch2000</th>\n",
       "      <th>dec_epoch2000</th>\n",
       "      <th>parallax</th>\n",
       "      <th>parallax_error</th>\n",
       "      <th>pmra_G</th>\n",
       "      <th>pmra_error</th>\n",
       "      <th>pmdec_G</th>\n",
       "      <th>pmdec_error</th>\n",
       "      <th>radial_velocity</th>\n",
       "      <th>radial_velocity_error</th>\n",
       "      <th>rest</th>\n",
       "      <th>b_rest_x</th>\n",
       "      <th>B_rest_xa</th>\n",
       "    </tr>\n",
       "  </thead>\n",
       "  <tbody>\n",
       "    <tr>\n",
       "      <th>86772</th>\n",
       "      <td>b'2M07414159+3725479'</td>\n",
       "      <td>115.423321</td>\n",
       "      <td>37.429985</td>\n",
       "      <td>13.8671</td>\n",
       "      <td>-22.9</td>\n",
       "      <td>1.7</td>\n",
       "      <td>115.423279</td>\n",
       "      <td>37.429952</td>\n",
       "      <td>NaN</td>\n",
       "      <td>NaN</td>\n",
       "      <td>NaN</td>\n",
       "      <td>NaN</td>\n",
       "      <td>NaN</td>\n",
       "      <td>NaN</td>\n",
       "      <td>NaN</td>\n",
       "      <td>NaN</td>\n",
       "      <td>147.143354</td>\n",
       "      <td>117.161026</td>\n",
       "      <td>197.753117</td>\n",
       "    </tr>\n",
       "  </tbody>\n",
       "</table>\n",
       "</div>"
      ],
      "text/plain": [
       "                   APOGEE_ID          RA        DEC  VHELIO_AVG  PMRA  PMDEC  \\\n",
       "86772  b'2M07414159+3725479'  115.423321  37.429985     13.8671 -22.9    1.7   \n",
       "\n",
       "       ra_epoch2000  dec_epoch2000  parallax  parallax_error  pmra_G  \\\n",
       "86772    115.423279      37.429952       NaN             NaN     NaN   \n",
       "\n",
       "       pmra_error  pmdec_G  pmdec_error  radial_velocity  \\\n",
       "86772         NaN      NaN          NaN              NaN   \n",
       "\n",
       "       radial_velocity_error        rest    b_rest_x   B_rest_xa  \n",
       "86772                    NaN  147.143354  117.161026  197.753117  "
      ]
     },
     "execution_count": 192,
     "metadata": {},
     "output_type": "execute_result"
    }
   ],
   "source": [
    "# Essa estrela será analizada independentemente devido a que não apresenta movimento proprio em ascenção recta e declinação no catalogo gaia DR2. \n",
    "APO_GAIA_DIST[APO_GAIA_DIST['pmdec_G'].isnull()]"
   ]
  },
  {
   "cell_type": "markdown",
   "metadata": {},
   "source": [
    "#### **Pasando as colunas do dataframe para arrays**"
   ]
  },
  {
   "cell_type": "code",
   "execution_count": 193,
   "metadata": {},
   "outputs": [],
   "source": [
    "RA = APO_GAIA_DIST.RA.values\n",
    "DEC = APO_GAIA_DIST.DEC.values\n",
    "PMRA = APO_GAIA_DIST.pmra_G.values\n",
    "PMDEC = APO_GAIA_DIST.pmdec_G.values\n",
    "VHELIO_AVG = APO_GAIA_DIST.VHELIO_AVG.values\n",
    "rest = APO_GAIA_DIST.rest.values\n",
    "ID =  APO_GAIA_DIST.APOGEE_ID"
   ]
  },
  {
   "cell_type": "code",
   "execution_count": 194,
   "metadata": {},
   "outputs": [],
   "source": [
    "# Rodando o codigo mostrado no site do astropy \n",
    "c1 = coord.ICRS(ra=RA*u.degree, dec=DEC*u.degree,\n",
    "                distance=(rest*u.pc),\n",
    "                pm_ra_cosdec=PMRA*u.mas/u.yr,\n",
    "                pm_dec=PMDEC*u.mas/u.yr,\n",
    "                radial_velocity=VHELIO_AVG*u.km/u.s)\n",
    "gc1 = c1.transform_to(coord.Galactocentric)\n",
    "U = gc1.v_x\n",
    "V = gc1.v_y\n",
    "W = gc1.v_z\n",
    "v_total = np.sqrt(U**2 + V**2 + W**2)\n",
    "np.savetxt('gc_velocities.txt', np.transpose([ID, U,V,W, v_total, rest]), fmt='%.20s     %-15e     %-15e     %-15e     %-15e     %-15e')"
   ]
  },
  {
   "cell_type": "markdown",
   "metadata": {},
   "source": [
    "### **Lendo o arquivo 'gc_velocities.txt' de velocidades com o pandas dataframe**"
   ]
  },
  {
   "cell_type": "code",
   "execution_count": 196,
   "metadata": {},
   "outputs": [
    {
     "name": "stdout",
     "output_type": "stream",
     "text": [
      "1276      5.995433e+02\n",
      "1402      1.562293e+03\n",
      "1767      6.881668e+02\n",
      "2448      7.048185e+02\n",
      "2533      7.990716e+02\n",
      "2815      1.037728e+03\n",
      "3011      1.369170e+03\n",
      "3809      7.825466e+02\n",
      "5687      5.663978e+02\n",
      "7587      5.227358e+02\n",
      "7854      5.034177e+02\n",
      "7992      5.025056e+02\n",
      "8102      7.753304e+02\n",
      "8113      5.725856e+02\n",
      "8118      8.794458e+02\n",
      "8124      1.000176e+06\n",
      "8168      6.698465e+02\n",
      "8173      5.663747e+02\n",
      "8181      5.373226e+02\n",
      "8220      1.130429e+03\n",
      "8232      5.788321e+02\n",
      "8279      8.160356e+02\n",
      "8287      6.680164e+02\n",
      "8363      7.144928e+02\n",
      "8617      7.395998e+02\n",
      "8636      9.300768e+02\n",
      "9980      5.836151e+02\n",
      "10531     5.509598e+02\n",
      "11009     7.258647e+02\n",
      "11544     8.487036e+02\n",
      "              ...     \n",
      "231347    6.111511e+02\n",
      "232198    7.490822e+02\n",
      "232617    9.037670e+02\n",
      "235156    1.067285e+03\n",
      "236116    1.227371e+03\n",
      "237889    9.726996e+02\n",
      "237903    6.073617e+02\n",
      "237960    6.689225e+02\n",
      "238378    5.069766e+02\n",
      "238784    6.359667e+02\n",
      "239145    6.557413e+02\n",
      "241814    8.129441e+02\n",
      "241881    5.950819e+02\n",
      "242023    7.945357e+02\n",
      "242403    5.612308e+02\n",
      "242406    6.486887e+02\n",
      "242674    6.716828e+02\n",
      "243139    8.212289e+02\n",
      "243613    6.319033e+02\n",
      "243815    5.536790e+02\n",
      "244695    7.225699e+02\n",
      "244907    6.331684e+02\n",
      "245840    8.763048e+02\n",
      "245891    5.469578e+02\n",
      "247913    7.806532e+02\n",
      "247983    8.342316e+02\n",
      "248541    5.477596e+02\n",
      "250999    6.401194e+02\n",
      "251060    5.210588e+02\n",
      "251415    9.628514e+02\n",
      "Name: V_total, Length: 473, dtype: float64\n"
     ]
    },
    {
     "data": {
      "image/png": "[encoded data removed]",
      "text/plain": [
       "<Figure size 432x288 with 1 Axes>"
      ]
     },
     "metadata": {
      "needs_background": "light"
     },
     "output_type": "display_data"
    }
   ],
   "source": [
    "columns_name = ['APO_ID', 'U', 'V', 'W', 'V_total' ]\n",
    "df = pd.read_table('gc_velocities.txt', sep='\\s+', names=columns_name, index_col=False, header=None)\n",
    "HVS = df.loc[df['V_total'] > 500]\n",
    "plt.hist(HVS.V_total)\n",
    "print(HVS.V_total)"
   ]
  },
  {
   "cell_type": "markdown",
   "metadata": {},
   "source": [
    "### **Galactocentric coordinate**\n",
    "Com todos os parâmetros necessários neste paso determinamos a velocidade en coordenadas galactocentricas, para isso iremos fazer uso da rutina em python do astropy. "
   ]
  },
  {
   "cell_type": "code",
   "execution_count": 103,
   "metadata": {},
   "outputs": [
    {
     "data": {
      "text/html": [
       "\n",
       "        <iframe\n",
       "            width=\"1000\"\n",
       "            height=\"100\"\n",
       "            src=\"http://docs.astropy.org/en/stable/coordinates/index.html\"\n",
       "            frameborder=\"0\"\n",
       "            allowfullscreen\n",
       "        ></iframe>\n",
       "        "
      ],
      "text/plain": [
       "<IPython.lib.display.IFrame at 0x7fdcea0cc908>"
      ]
     },
     "execution_count": 103,
     "metadata": {},
     "output_type": "execute_result"
    }
   ],
   "source": [
    "from IPython.display import IFrame\n",
    "IFrame(src='http://docs.astropy.org/en/stable/coordinates/index.html', width=1000, height=100)"
   ]
  },
  {
   "cell_type": "code",
   "execution_count": 104,
   "metadata": {},
   "outputs": [
    {
     "data": {
      "text/html": [
       "\n",
       "        <iframe\n",
       "            width=\"1000\"\n",
       "            height=\"100\"\n",
       "            src=\"http://docs.astropy.org/en/stable/coordinates/galactocentric.html#\"\n",
       "            frameborder=\"0\"\n",
       "            allowfullscreen\n",
       "        ></iframe>\n",
       "        "
      ],
      "text/plain": [
       "<IPython.lib.display.IFrame at 0x7fdcea0cc630>"
      ]
     },
     "execution_count": 104,
     "metadata": {},
     "output_type": "execute_result"
    }
   ],
   "source": [
    "from IPython.display import IFrame\n",
    "IFrame(src='http://docs.astropy.org/en/stable/coordinates/galactocentric.html#', width=1000, height=100)"
   ]
  },
  {
   "cell_type": "code",
   "execution_count": 4,
   "metadata": {},
   "outputs": [],
   "source": [
    "# Colocando os pacotes necessários para rodar o codigo\n",
    "import numpy as np\n",
    "import matplotlib.pyplot as plt\n",
    "from astropy.visualization import astropy_mpl_style\n",
    "plt.style.use(astropy_mpl_style)\n",
    "# using astropy\n",
    "import astropy.coordinates as coord\n",
    "import astropy.units as u"
   ]
  },
  {
   "cell_type": "code",
   "execution_count": null,
   "metadata": {},
   "outputs": [],
   "source": [
    "# Rodando o codigo mostrado no site do astropy \n",
    "c1 = coord.ICRS(ra=89.014303*u.degree, dec=13.924912*u.degree,\n",
    "                distance=(37.59*u.mas).to(u.pc, u.parallax()),\n",
    "                pm_ra_cosdec=372.72*u.mas/u.yr,\n",
    "                pm_dec=-483.69*u.mas/u.yr,\n",
    "                radial_velocity=0.37*u.km/u.s)"
   ]
  },
  {
   "cell_type": "code",
   "execution_count": null,
   "metadata": {},
   "outputs": [],
   "source": [
    "gc1 = c1.transform_to(coord.Galactocentric)\n",
    "print(gc1.v_x, gc1.v_y, gc1.v_z)"
   ]
  },
  {
   "cell_type": "markdown",
   "metadata": {},
   "source": [
    "#### **Testando com os valores de velocidades galactocentricas obtidos para o Large Magellanic Cloud (LMC) e o Small Magellanic Cloud (SMC) no artigo doi:10.1088/0004-6256/137/5/4339** \n",
    "#### **Dados necessários para o LMC**\n",
    "Posição \n",
    "\n",
    "1. RA  = +89.33 graus\n",
    "2. DEC = -67.22 graus\n",
    "\n",
    "Distância\n",
    "\n",
    "3. distancia = 50100 pc\n",
    "\n",
    "Movimento proprios\n",
    "\n",
    "movimento proprio para velocidade de rotação  50 km/s\n",
    "\n",
    "4. mu_alpha_cos_delta = +1.82 +- 0.13 mas/yr\n",
    "5. mu_delta = +0.39 +- 0.15 mas/yr\n",
    "\n",
    "movimento proprio para velocidade de rotação  120 km/s\n",
    "\n",
    "6. mu_alpha_cos_delta = +1.61 +- 0.13 mas/yr\n",
    "7. mu_delta = +0.60 +- 0.15 mas/yr\n",
    "\n",
    "Velocidade radial \n",
    "\n",
    "8. VR = +287.0 km/s"
   ]
  },
  {
   "cell_type": "code",
   "execution_count": null,
   "metadata": {},
   "outputs": [],
   "source": [
    "# velocidade galactocentrica para o LMC com velocidade de rotação de 50 km/s\n",
    "C_LMC50_1 = coord.ICRS(ra=81.90*u.degree, dec=-69.87*u.degree,\n",
    "                distance=50100*u.pc,\n",
    "                pm_ra_cosdec=1.82*u.mas/u.yr,\n",
    "                pm_dec=-0.39*u.mas/u.yr,\n",
    "                radial_velocity=262.1*u.km/u.s)\n",
    "gc_LMC50_1 = C_LMC50_1.transform_to(coord.Galactocentric)\n",
    "print(gc_LMC50_1.v_x, gc_LMC50_1.v_y, gc_LMC50_1.v_z)"
   ]
  },
  {
   "cell_type": "code",
   "execution_count": null,
   "metadata": {},
   "outputs": [],
   "source": [
    "# considerando os valores do artigo\n",
    "v_sun = coord.CartesianDifferential([14.0, 12.24, 7.25]*u.km/u.s)\n",
    "gc_frame_lmc50 = coord.Galactocentric(galcen_distance=8.2*u.kpc,\n",
    "                                galcen_v_sun=v_sun,\n",
    "                                z_sun=25*u.pc)\n",
    "gc_LMC50_2 = C_LMC50_1.transform_to(gc_frame_lmc50)\n",
    "print(gc_LMC50_2.v_x, gc_LMC50_2.v_y, gc_LMC50_2.v_z)"
   ]
  },
  {
   "cell_type": "markdown",
   "metadata": {},
   "source": [
    "# Artigo Gaia DR2 in 6D: Searching for the fastest stars in the galaxy\n",
    "Posição \n",
    "\n",
    "1. RA  = 45.13214374784831 graus\n",
    "2. DEC = 0.13785096598403554 graus\n",
    "\n",
    "Distância\n",
    "\n",
    "3. distancia = 382.4321158364128 pc\n",
    "\n",
    "Movimento proprios\n",
    "\n",
    "movimento proprio para velocidade de rotação  50 km/s\n",
    "\n",
    "4. mu_alpha_cos_delta = 4.782390524372778 mas/yr\n",
    "5. mu_delta = 18.790211615251437 mas/yr\n",
    "\n",
    "Velocidade radial \n",
    "\n",
    "8. VR = 33.84043726251102 km/s"
   ]
  },
  {
   "cell_type": "code",
   "execution_count": null,
   "metadata": {},
   "outputs": [],
   "source": [
    "# velocidade galactocentrica para a primeira estrela do catalogo gaia (Marchetti)\n",
    "GAIA_1 = coord.ICRS(ra=45.13214374784831*u.degree, dec=0.13785096598403554*u.degree,\n",
    "                distance=382.4321158364128*u.pc,\n",
    "                pm_ra_cosdec=4.782390524372778*u.mas/u.yr,\n",
    "                pm_dec=18.790211615251437*u.mas/u.yr,\n",
    "                radial_velocity=33.84043726251102*u.km/u.s)\n",
    "gc_GAIA_1 = GAIA_1.transform_to(coord.Galactocentric)\n",
    "print(gc_GAIA_1.v_x, gc_GAIA_1.v_y, gc_GAIA_1.v_z)"
   ]
  },
  {
   "cell_type": "code",
   "execution_count": null,
   "metadata": {},
   "outputs": [],
   "source": [
    "# considerando os valores do artigo\n",
    "v_sun = coord.CartesianDifferential([14.0, 250.24, 7.25]*u.km/u.s)\n",
    "gc_frame = coord.Galactocentric(galcen_distance=8.2*u.kpc,\n",
    "                                galcen_v_sun=v_sun,\n",
    "                                z_sun=25*u.pc)\n",
    "gc_GAIA_1C = GAIA_1.transform_to(gc_frame)\n",
    "print(gc_GAIA_1C.v_x, gc_GAIA_1C.v_y, gc_GAIA_1C.v_z)"
   ]
  },
  {
   "cell_type": "code",
   "execution_count": null,
   "metadata": {},
   "outputs": [],
   "source": [
    "# velocidade galactocentrica para a segunda estrela do catalogo gaia (Marchetti)\n",
    "GAIA_2 = coord.ICRS(ra=45.05816745630085*u.degree, dec=0.12740379563087656*u.degree,\n",
    "                distance=573.9735889753617*u.pc,\n",
    "                pm_ra_cosdec=6.399015950035163*u.mas/u.yr,\n",
    "                pm_dec=-12.94271166934367*u.mas/u.yr,\n",
    "                radial_velocity=4.5726744498926255*u.km/u.s)\n",
    "gc_GAIA_2 = GAIA_2.transform_to(gc_frame)\n",
    "U = gc_GAIA_2.v_x\n",
    "V = gc_GAIA_2.v_y\n",
    "W = gc_GAIA_2.v_z\n",
    "V_total = np.sqrt(U**2 + V**2 + W**2)\n",
    "print(U, V, W, V_total)"
   ]
  },
  {
   "cell_type": "code",
   "execution_count": null,
   "metadata": {},
   "outputs": [],
   "source": [
    "np.sqrt(17.877407021113946**2 + 212.54059105492033**2 + -4.06084412139914**2)"
   ]
  }
 ],
 "metadata": {
  "kernelspec": {
   "display_name": "Python 3",
   "language": "python",
   "name": "python3"
  },
  "language_info": {
   "codemirror_mode": {
    "name": "ipython",
    "version": 3
   },
   "file_extension": ".py",
   "mimetype": "text/x-python",
   "name": "python",
   "nbconvert_exporter": "python",
   "pygments_lexer": "ipython3",
   "version": "3.7.1"
  }
 },
 "nbformat": 4,
 "nbformat_minor": 2
}
