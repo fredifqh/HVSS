{
 "cells": [
  {
   "cell_type": "markdown",
   "metadata": {},
   "source": [
    "### **Calculando a velocidade espacial em coordenadas galactocentricas usando APOGEE e GAIADR2**\n",
    "Fredi Quispe H."
   ]
  },
  {
   "cell_type": "markdown",
   "metadata": {},
   "source": [
    "Para calcular a velocidade é necessario ter os seguintes parâmetros:\n",
    "\n",
    "    1 Posição (ascensão recta e declinação)\n",
    "    2 Movimentos proprios (em ascensão recta e declinação)\n",
    "    3 Distância\n",
    "    4 Velocidade Radial"
   ]
  },
  {
   "cell_type": "markdown",
   "metadata": {},
   "source": [
    "#### **APOGEE DATA**"
   ]
  },
  {
   "cell_type": "code",
   "execution_count": 1,
   "metadata": {},
   "outputs": [
    {
     "data": {
      "text/html": [
       "\n",
       "        <iframe\n",
       "            width=\"1000\"\n",
       "            height=\"200\"\n",
       "            src=\"https://www.sdss.org/dr14/irspec/spectro_data/\"\n",
       "            frameborder=\"0\"\n",
       "            allowfullscreen\n",
       "        ></iframe>\n",
       "        "
      ],
      "text/plain": [
       "<IPython.lib.display.IFrame at 0x7f67e80adeb8>"
      ]
     },
     "execution_count": 1,
     "metadata": {},
     "output_type": "execute_result"
    }
   ],
   "source": [
    "from IPython.display import IFrame\n",
    "IFrame(src='https://www.sdss.org/dr14/irspec/spectro_data/', width=1000, height=200)"
   ]
  },
  {
   "cell_type": "markdown",
   "metadata": {},
   "source": [
    "#### **APOGEE DATA (Informação da tabela de dados)**"
   ]
  },
  {
   "cell_type": "code",
   "execution_count": 2,
   "metadata": {},
   "outputs": [
    {
     "data": {
      "text/html": [
       "\n",
       "        <iframe\n",
       "            width=\"1000\"\n",
       "            height=\"200\"\n",
       "            src=\"https://data.sdss.org/datamodel/files/APOGEE_REDUX/APRED_VERS/APSTAR_VERS/ASPCAP_VERS/RESULTS_VERS/allStar.html#example\"\n",
       "            frameborder=\"0\"\n",
       "            allowfullscreen\n",
       "        ></iframe>\n",
       "        "
      ],
      "text/plain": [
       "<IPython.lib.display.IFrame at 0x7f67e9a933c8>"
      ]
     },
     "execution_count": 2,
     "metadata": {},
     "output_type": "execute_result"
    }
   ],
   "source": [
    "from IPython.display import IFrame\n",
    "IFrame(src='https://data.sdss.org/datamodel/files/APOGEE_REDUX/APRED_VERS/APSTAR_VERS/ASPCAP_VERS/RESULTS_VERS/allStar.html#example', width=1000, height=200)"
   ]
  },
  {
   "cell_type": "markdown",
   "metadata": {},
   "source": [
    "#### **Lendo o arquivo fits que contem os dados do APOGEE**"
   ]
  },
  {
   "cell_type": "code",
   "execution_count": 3,
   "metadata": {},
   "outputs": [],
   "source": [
    "import pandas as pd\n",
    "import numpy as np\n",
    "import fitsio\n",
    "import matplotlib.pyplot as plt"
   ]
  },
  {
   "cell_type": "code",
   "execution_count": 4,
   "metadata": {},
   "outputs": [
    {
     "ename": "OSError",
     "evalue": "File not found: 'allStar-l31c.2.fits'",
     "output_type": "error",
     "traceback": [
      "\u001b[0;31m---------------------------------------------------------------------------\u001b[0m",
      "\u001b[0;31mOSError\u001b[0m                                   Traceback (most recent call last)",
      "\u001b[0;32m<ipython-input-4-9cb48d29921d>\u001b[0m in \u001b[0;36m<module>\u001b[0;34m()\u001b[0m\n\u001b[1;32m      1\u001b[0m \u001b[0mapogee_data_filename\u001b[0m \u001b[0;34m=\u001b[0m \u001b[0;34m'allStar-l31c.2.fits'\u001b[0m\u001b[0;34m\u001b[0m\u001b[0m\n\u001b[1;32m      2\u001b[0m \u001b[0mcolumn_name_apogee\u001b[0m \u001b[0;34m=\u001b[0m \u001b[0;34m[\u001b[0m\u001b[0;34m'APOGEE_ID'\u001b[0m\u001b[0;34m,\u001b[0m\u001b[0;34m'RA'\u001b[0m\u001b[0;34m,\u001b[0m \u001b[0;34m'DEC'\u001b[0m\u001b[0;34m,\u001b[0m \u001b[0;34m'VHELIO_AVG'\u001b[0m\u001b[0;34m,\u001b[0m \u001b[0;34m'PMRA'\u001b[0m\u001b[0;34m,\u001b[0m \u001b[0;34m'PMDEC'\u001b[0m\u001b[0;34m,\u001b[0m \u001b[0;34m'SNR'\u001b[0m\u001b[0;34m]\u001b[0m \u001b[0;31m# Selecting some columns from the original file\u001b[0m\u001b[0;34m\u001b[0m\u001b[0m\n\u001b[0;32m----> 3\u001b[0;31m \u001b[0mRAD\u001b[0m \u001b[0;34m=\u001b[0m \u001b[0mfitsio\u001b[0m\u001b[0;34m.\u001b[0m\u001b[0mread\u001b[0m\u001b[0;34m(\u001b[0m\u001b[0mapogee_data_filename\u001b[0m\u001b[0;34m,\u001b[0m \u001b[0mcolumns\u001b[0m\u001b[0;34m=\u001b[0m\u001b[0mcolumn_name_apogee\u001b[0m\u001b[0;34m)\u001b[0m \u001b[0;31m# reading apogee data (RAD)\u001b[0m\u001b[0;34m\u001b[0m\u001b[0m\n\u001b[0m\u001b[1;32m      4\u001b[0m \u001b[0mRAD\u001b[0m \u001b[0;34m=\u001b[0m \u001b[0mRAD\u001b[0m\u001b[0;34m.\u001b[0m\u001b[0mbyteswap\u001b[0m\u001b[0;34m(\u001b[0m\u001b[0;34m)\u001b[0m\u001b[0;34m.\u001b[0m\u001b[0mnewbyteorder\u001b[0m\u001b[0;34m(\u001b[0m\u001b[0;34m)\u001b[0m\u001b[0;34m\u001b[0m\u001b[0m\n\u001b[1;32m      5\u001b[0m \u001b[0mAPOGEE_TABLE_DF\u001b[0m \u001b[0;34m=\u001b[0m \u001b[0mpd\u001b[0m\u001b[0;34m.\u001b[0m\u001b[0mDataFrame\u001b[0m\u001b[0;34m.\u001b[0m\u001b[0mfrom_records\u001b[0m\u001b[0;34m(\u001b[0m\u001b[0mRAD\u001b[0m\u001b[0;34m)\u001b[0m \u001b[0;31m# Apogee Table as DataFrame\u001b[0m\u001b[0;34m\u001b[0m\u001b[0m\n",
      "\u001b[0;32m~/anaconda3/lib/python3.6/site-packages/fitsio/fitslib.py\u001b[0m in \u001b[0;36mread\u001b[0;34m(filename, ext, extver, **keys)\u001b[0m\n\u001b[1;32m     85\u001b[0m     \"\"\"\n\u001b[1;32m     86\u001b[0m \u001b[0;34m\u001b[0m\u001b[0m\n\u001b[0;32m---> 87\u001b[0;31m     \u001b[0;32mwith\u001b[0m \u001b[0mFITS\u001b[0m\u001b[0;34m(\u001b[0m\u001b[0mfilename\u001b[0m\u001b[0;34m,\u001b[0m \u001b[0;34m**\u001b[0m\u001b[0mkeys\u001b[0m\u001b[0;34m)\u001b[0m \u001b[0;32mas\u001b[0m \u001b[0mfits\u001b[0m\u001b[0;34m:\u001b[0m\u001b[0;34m\u001b[0m\u001b[0m\n\u001b[0m\u001b[1;32m     88\u001b[0m \u001b[0;34m\u001b[0m\u001b[0m\n\u001b[1;32m     89\u001b[0m         \u001b[0mheader\u001b[0m\u001b[0;34m=\u001b[0m\u001b[0mkeys\u001b[0m\u001b[0;34m.\u001b[0m\u001b[0mpop\u001b[0m\u001b[0;34m(\u001b[0m\u001b[0;34m'header'\u001b[0m\u001b[0;34m,\u001b[0m\u001b[0;32mFalse\u001b[0m\u001b[0;34m)\u001b[0m\u001b[0;34m\u001b[0m\u001b[0m\n",
      "\u001b[0;32m~/anaconda3/lib/python3.6/site-packages/fitsio/fitslib.py\u001b[0m in \u001b[0;36m__init__\u001b[0;34m(self, filename, mode, **keys)\u001b[0m\n\u001b[1;32m    349\u001b[0m         \u001b[0;32melse\u001b[0m\u001b[0;34m:\u001b[0m\u001b[0;34m\u001b[0m\u001b[0m\n\u001b[1;32m    350\u001b[0m             \u001b[0;32mif\u001b[0m \u001b[0;32mnot\u001b[0m \u001b[0mos\u001b[0m\u001b[0;34m.\u001b[0m\u001b[0mpath\u001b[0m\u001b[0;34m.\u001b[0m\u001b[0mexists\u001b[0m\u001b[0;34m(\u001b[0m\u001b[0mfilename\u001b[0m\u001b[0;34m)\u001b[0m\u001b[0;34m:\u001b[0m\u001b[0;34m\u001b[0m\u001b[0m\n\u001b[0;32m--> 351\u001b[0;31m                 \u001b[0;32mraise\u001b[0m \u001b[0mIOError\u001b[0m\u001b[0;34m(\u001b[0m\u001b[0;34m\"File not found: '%s'\"\u001b[0m \u001b[0;34m%\u001b[0m \u001b[0mfilename\u001b[0m\u001b[0;34m)\u001b[0m\u001b[0;34m\u001b[0m\u001b[0m\n\u001b[0m\u001b[1;32m    352\u001b[0m \u001b[0;34m\u001b[0m\u001b[0m\n\u001b[1;32m    353\u001b[0m         \u001b[0mself\u001b[0m\u001b[0;34m.\u001b[0m\u001b[0m_FITS\u001b[0m \u001b[0;34m=\u001b[0m  \u001b[0m_fitsio_wrap\u001b[0m\u001b[0;34m.\u001b[0m\u001b[0mFITS\u001b[0m\u001b[0;34m(\u001b[0m\u001b[0mfilename\u001b[0m\u001b[0;34m,\u001b[0m \u001b[0mself\u001b[0m\u001b[0;34m.\u001b[0m\u001b[0mintmode\u001b[0m\u001b[0;34m,\u001b[0m \u001b[0mcreate\u001b[0m\u001b[0;34m)\u001b[0m\u001b[0;34m\u001b[0m\u001b[0m\n",
      "\u001b[0;31mOSError\u001b[0m: File not found: 'allStar-l31c.2.fits'"
     ]
    }
   ],
   "source": [
    "apogee_data_filename = 'allStar-l31c.2.fits'\n",
    "column_name_apogee = ['APOGEE_ID','RA', 'DEC', 'VHELIO_AVG', 'PMRA', 'PMDEC', 'SNR'] # Selecting some columns from the original file\n",
    "RAD = fitsio.read(apogee_data_filename, columns=column_name_apogee) # reading apogee data (RAD)\n",
    "RAD = RAD.byteswap().newbyteorder()\n",
    "APOGEE_TABLE_DF = pd.DataFrame.from_records(RAD) # Apogee Table as DataFrame"
   ]
  },
  {
   "cell_type": "markdown",
   "metadata": {},
   "source": [
    "#### **Eliminando as filas quando o APOGEE_ID se repete mas mantendo a fila com o maior razão sinal ruido**"
   ]
  },
  {
   "cell_type": "code",
   "execution_count": null,
   "metadata": {},
   "outputs": [],
   "source": [
    "# apogee data sorting by higuest SNR for duplicate APOGEE_ID\n",
    "ADSBSNR = APOGEE_TABLE_DF.sort_values('SNR', ascending=False).drop_duplicates('APOGEE_ID').sort_index() \n",
    "ADSBSNR.head(10)\n",
    "ADSBSNR.shape"
   ]
  },
  {
   "cell_type": "markdown",
   "metadata": {},
   "source": [
    "#### **Guardando o novo arquivo em formato fits**\n",
    "Com o fim de realizar o crossmatch com o catalogo GaiaDR2 será criado um novo arquivo com o nome de apogee_filter_SNR.fits"
   ]
  },
  {
   "cell_type": "code",
   "execution_count": null,
   "metadata": {},
   "outputs": [],
   "source": [
    "result_file = fitsio.FITS('apogee_filter_SNR.fits','rw') \n",
    "result_file.write(ADSBSNR.to_records(index=False))\n",
    "result_file.close()"
   ]
  },
  {
   "cell_type": "markdown",
   "metadata": {},
   "source": [
    "#### **APOGEE e GAIADR2**\n",
    "A fim de determinar a velocidade espacial em coordenadas galactocentricas é necessário conhecer as distâncias (não fornecido pelo apogee), portanto, os dados do apogee serão complementados com os dados do GAIADR2 que fornece o paralaxe por meio do qual é possível determinar a distância. Com essa finalidade iremos a fazer um crossmatch entre os dos levantamentos. A ferramenta para o crossmatch será feito com TOPCAT (*Tool for Operations on Catalogues And Tables*). Para realizar o crossmatch é necessário definir um radio de match, neste caso iremos usar o radio de 0.5 segundos de arco."
   ]
  },
  {
   "cell_type": "markdown",
   "metadata": {},
   "source": [
    "#### **Lendo o arquivo fits apos o crossmatch**\n",
    "O crossmatch foi feito usando o catálogo contendo as distâncias calculadas a partir da paralaje como mostrado no artigo http://www.mpia.de/~calj/gdr2_distances/gdr2_distances.pdf, mas inicialmente foi realizado um crossmatch com o gaiaDR2 a fim de obter os movimentos proprios que não é dado no catalogo de distâncias localizado no vizier I/347/gaia2dis. O catalogo apos os crossmatch tem o nome APOGEExGAIADR2_dist.fits"
   ]
  },
  {
   "cell_type": "code",
   "execution_count": null,
   "metadata": {},
   "outputs": [],
   "source": [
    "apogee_x_gaiadr2_distance_filename = 'APOGEExGAIADR2_dist.fits'\n",
    "column_name_apogee_gaiadr2_distance = ['RA','DEC', 'PMRA', 'PMDEC','VHELIO_AVG', 'ra_epoch2000', 'dec_epoch2000', 'parallax', 'parallax_error', 'pmra_G', 'pmra_error', 'pmdec_G', 'pmdec_error', 'radial_velocity', 'radial_velocity_error', 'rest', 'b_rest_x', 'B_rest_xa']\n",
    "AGD = fitsio.read(apogee_x_gaiadr2_distance_filename, ext=1, columns = column_name_apogee_gaiadr2_distance) # Apogee Gaia Distance (AGD)\n",
    "AGD = AGD.byteswap().newbyteorder()\n",
    "APO_GAIA_DIST = pd.DataFrame.from_records(AGD)"
   ]
  },
  {
   "cell_type": "markdown",
   "metadata": {},
   "source": [
    "#### **Pasando as colunas do dataframe para arrays**"
   ]
  },
  {
   "cell_type": "code",
   "execution_count": null,
   "metadata": {},
   "outputs": [],
   "source": [
    "RA = APO_GAIA_DIST.RA.values\n",
    "DEC = APO_GAIA_DIST.DEC.values\n",
    "PMRA = APO_GAIA_DIST.PMRA.values\n",
    "PMDEC= APO_GAIA_DIST.PMDEC.values\n",
    "VHELIO_AVG = APO_GAIA_DIST.VHELIO_AVG.values\n",
    "rest = APO_GAIA_DIST.rest.values"
   ]
  },
  {
   "cell_type": "code",
   "execution_count": null,
   "metadata": {},
   "outputs": [],
   "source": [
    "# Rodando o codigo mostrado no site do astropy \n",
    "c1 = coord.ICRS(ra=RA*u.degree, dec=DEC*u.degree,\n",
    "                distance=(rest*u.pc),\n",
    "                pm_ra_cosdec=PMRA*u.mas/u.yr,\n",
    "                pm_dec=PMDEC*u.mas/u.yr,\n",
    "                radial_velocity=VHELIO_AVG*u.km/u.s)\n",
    "gc1 = c1.transform_to(coord.Galactocentric)\n",
    "gc1.v_x[0]"
   ]
  },
  {
   "cell_type": "markdown",
   "metadata": {},
   "source": [
    "### **Galactocentric coordinate**\n",
    "Com todos os parâmetros necessários neste paso determinamos a velocidade en coordenadas galactocentricas, para isso iremos fazer uso da rutina em python do astropy. "
   ]
  },
  {
   "cell_type": "code",
   "execution_count": null,
   "metadata": {},
   "outputs": [],
   "source": [
    "from IPython.display import IFrame\n",
    "IFrame(src='http://docs.astropy.org/en/stable/coordinates/index.html', width=1000, height=200)"
   ]
  },
  {
   "cell_type": "code",
   "execution_count": null,
   "metadata": {},
   "outputs": [],
   "source": [
    "from IPython.display import IFrame\n",
    "IFrame(src='http://docs.astropy.org/en/stable/coordinates/galactocentric.html#', width=1000, height=200)"
   ]
  },
  {
   "cell_type": "code",
   "execution_count": null,
   "metadata": {},
   "outputs": [],
   "source": [
    "# Colocando os pacotes necessários para rodar o codigo\n",
    "import numpy as np\n",
    "import matplotlib.pyplot as plt\n",
    "from astropy.visualization import astropy_mpl_style\n",
    "plt.style.use(astropy_mpl_style)\n",
    "# using astropy\n",
    "import astropy.coordinates as coord\n",
    "import astropy.units as u"
   ]
  },
  {
   "cell_type": "code",
   "execution_count": null,
   "metadata": {},
   "outputs": [],
   "source": [
    "# Rodando o codigo mostrado no site do astropy \n",
    "c1 = coord.ICRS(ra=89.014303*u.degree, dec=13.924912*u.degree,\n",
    "                distance=(37.59*u.mas).to(u.pc, u.parallax()),\n",
    "                pm_ra_cosdec=372.72*u.mas/u.yr,\n",
    "                pm_dec=-483.69*u.mas/u.yr,\n",
    "                radial_velocity=0.37*u.km/u.s)"
   ]
  },
  {
   "cell_type": "code",
   "execution_count": null,
   "metadata": {},
   "outputs": [],
   "source": [
    "gc1 = c1.transform_to(coord.Galactocentric)\n",
    "print(gc1.v_x, gc1.v_y, gc1.v_z)"
   ]
  },
  {
   "cell_type": "markdown",
   "metadata": {},
   "source": [
    "#### **Testando com os valores de velocidades galactocentricas obtidos para o Large Magellanic Cloud (LMC) e o Small Magellanic Cloud (SMC) no artigo doi:10.1088/0004-6256/137/5/4339** \n",
    "#### **Dados necessários para o LMC**\n",
    "Posição \n",
    "\n",
    "1. RA  = +89.33 graus\n",
    "2. DEC = -67.22 graus\n",
    "\n",
    "Distância\n",
    "\n",
    "3. distancia = 50100 pc\n",
    "\n",
    "Movimento proprios\n",
    "\n",
    "movimento proprio para velocidade de rotação  50 km/s\n",
    "\n",
    "4. mu_alpha_cos_delta = +1.82 +- 0.13 mas/yr\n",
    "5. mu_delta = +0.39 +- 0.15 mas/yr\n",
    "\n",
    "movimento proprio para velocidade de rotação  120 km/s\n",
    "\n",
    "6. mu_alpha_cos_delta = +1.61 +- 0.13 mas/yr\n",
    "7. mu_delta = +0.60 +- 0.15 mas/yr\n",
    "\n",
    "Velocidade radial \n",
    "\n",
    "8. VR = +287.0 km/s"
   ]
  },
  {
   "cell_type": "code",
   "execution_count": null,
   "metadata": {},
   "outputs": [],
   "source": [
    "# velocidade galactocentrica para o LMC com velocidade de rotação de 50 km/s\n",
    "C_LMC50_1 = coord.ICRS(ra=81.90*u.degree, dec=-69.87*u.degree,\n",
    "                distance=50100*u.pc,\n",
    "                pm_ra_cosdec=1.82*u.mas/u.yr,\n",
    "                pm_dec=-0.39*u.mas/u.yr,\n",
    "                radial_velocity=262.1*u.km/u.s)\n",
    "gc_LMC50_1 = C_LMC50_1.transform_to(coord.Galactocentric)\n",
    "print(gc_LMC50_1.v_x, gc_LMC50_1.v_y, gc_LMC50_1.v_z)"
   ]
  },
  {
   "cell_type": "code",
   "execution_count": null,
   "metadata": {},
   "outputs": [],
   "source": [
    "# considerando os valores do artigo\n",
    "v_sun = coord.CartesianDifferential([14.0, 12.24, 7.25]*u.km/u.s)\n",
    "gc_frame_lmc50 = coord.Galactocentric(galcen_distance=8.2*u.kpc,\n",
    "                                galcen_v_sun=v_sun,\n",
    "                                z_sun=25*u.pc)\n",
    "gc_LMC50_2 = C_LMC50_1.transform_to(gc_frame_lmc50)\n",
    "print(gc_LMC50_2.v_x, gc_LMC50_2.v_y, gc_LMC50_2.v_z)"
   ]
  },
  {
   "cell_type": "markdown",
   "metadata": {},
   "source": [
    "# Artigo Gaia DR2 in 6D: Searching for the fastest stars in the galaxy\n",
    "Posição \n",
    "\n",
    "1. RA  = 45.13214374784831 graus\n",
    "2. DEC = 0.13785096598403554 graus\n",
    "\n",
    "Distância\n",
    "\n",
    "3. distancia = 382.4321158364128 pc\n",
    "\n",
    "Movimento proprios\n",
    "\n",
    "movimento proprio para velocidade de rotação  50 km/s\n",
    "\n",
    "4. mu_alpha_cos_delta = 4.782390524372778 mas/yr\n",
    "5. mu_delta = 18.790211615251437 mas/yr\n",
    "\n",
    "Velocidade radial \n",
    "\n",
    "8. VR = 33.84043726251102 km/s"
   ]
  },
  {
   "cell_type": "code",
   "execution_count": null,
   "metadata": {},
   "outputs": [],
   "source": [
    "# velocidade galactocentrica para a primeira estrela do catalogo gaia (Marchetti)\n",
    "GAIA_1 = coord.ICRS(ra=45.13214374784831*u.degree, dec=0.13785096598403554*u.degree,\n",
    "                distance=382.4321158364128*u.pc,\n",
    "                pm_ra_cosdec=4.782390524372778*u.mas/u.yr,\n",
    "                pm_dec=18.790211615251437*u.mas/u.yr,\n",
    "                radial_velocity=33.84043726251102*u.km/u.s)\n",
    "gc_GAIA_1 = GAIA_1.transform_to(coord.Galactocentric)\n",
    "print(gc_GAIA_1.v_x, gc_GAIA_1.v_y, gc_GAIA_1.v_z)"
   ]
  },
  {
   "cell_type": "code",
   "execution_count": null,
   "metadata": {},
   "outputs": [],
   "source": [
    "# considerando os valores do artigo\n",
    "v_sun = coord.CartesianDifferential([14.0, 250.24, 7.25]*u.km/u.s)\n",
    "gc_frame = coord.Galactocentric(galcen_distance=8.2*u.kpc,\n",
    "                                galcen_v_sun=v_sun,\n",
    "                                z_sun=25*u.pc)\n",
    "gc_GAIA_1C = GAIA_1.transform_to(gc_frame)\n",
    "print(gc_GAIA_1C.v_x, gc_GAIA_1C.v_y, gc_GAIA_1C.v_z)"
   ]
  },
  {
   "cell_type": "code",
   "execution_count": null,
   "metadata": {},
   "outputs": [],
   "source": [
    "# velocidade galactocentrica para a segunda estrela do catalogo gaia (Marchetti)\n",
    "GAIA_2 = coord.ICRS(ra=45.05816745630085*u.degree, dec=0.12740379563087656*u.degree,\n",
    "                distance=573.9735889753617*u.pc,\n",
    "                pm_ra_cosdec=6.399015950035163*u.mas/u.yr,\n",
    "                pm_dec=-12.94271166934367*u.mas/u.yr,\n",
    "                radial_velocity=4.5726744498926255*u.km/u.s)\n",
    "gc_GAIA_2 = GAIA_2.transform_to(gc_frame)\n",
    "U = gc_GAIA_2.v_x\n",
    "V = gc_GAIA_2.v_y\n",
    "W = gc_GAIA_2.v_z\n",
    "V_total = np.sqrt(U**2 + V**2 + W**2)\n",
    "print(U, V, W, V_total)"
   ]
  },
  {
   "cell_type": "code",
   "execution_count": null,
   "metadata": {},
   "outputs": [],
   "source": [
    "np.sqrt(17.877407021113946**2 + 212.54059105492033**2 + -4.06084412139914**2)"
   ]
  }
 ],
 "metadata": {
  "kernelspec": {
   "display_name": "Python 3",
   "language": "python",
   "name": "python3"
  },
  "language_info": {
   "codemirror_mode": {
    "name": "ipython",
    "version": 3
   },
   "file_extension": ".py",
   "mimetype": "text/x-python",
   "name": "python",
   "nbconvert_exporter": "python",
   "pygments_lexer": "ipython3",
   "version": "3.6.6"
  }
 },
 "nbformat": 4,
 "nbformat_minor": 2
}
